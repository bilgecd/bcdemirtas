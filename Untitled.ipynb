{
 "cells": [
  {
   "cell_type": "code",
   "execution_count": 1,
   "id": "1062d5ad-5443-4c38-ab9d-8a823e1e0ae8",
   "metadata": {},
   "outputs": [],
   "source": [
    "# Gerekli Kitaplıkları İçe Aktarma"
   ]
  },
  {
   "cell_type": "code",
   "execution_count": 2,
   "id": "f8fc4008-0d21-4b30-9efd-f404718bf3d3",
   "metadata": {},
   "outputs": [],
   "source": [
    "import csv\n",
    "import datetime"
   ]
  },
  {
   "cell_type": "code",
   "execution_count": 3,
   "id": "5076974b-eb3e-4d57-a88d-321b1051825b",
   "metadata": {},
   "outputs": [],
   "source": [
    "# Menu.txt dosyasını oluştur"
   ]
  },
  {
   "cell_type": "code",
   "execution_count": 4,
   "id": "25724ff2-7aa2-4364-98e0-ab866de19a2e",
   "metadata": {},
   "outputs": [],
   "source": [
    "lines = ['* Lütfen Bir Pizza Tabanı Seçiniz:', \n",
    "         '1: Klasik', '2: Margarita', '3: TürkPizza', '4: Sade Pizza', '* ve seçeceğiniz sos:', '11: Zeytin', '12: Mantarlar', '13: Keçi Peyniri', '14: Et', '15: Soğan', '16: Mısır', '* Teşekkür ederiz!' ]\n",
    "with open(\"Menu.txt\", \"a\") as file:\n",
    " for line in lines:\n",
    "   file.write(line)\n",
    "   file.write(\"\\n\")\n",
    "file = open(\"Menu.txt\", \"r\")\n",
    "menu = file.read()\n",
    "file.close()"
   ]
  },
  {
   "cell_type": "code",
   "execution_count": 5,
   "id": "3da2d099-caa5-4806-bfbb-18ca58b4b897",
   "metadata": {},
   "outputs": [],
   "source": [
    "# Pizza sınıfını ve bu sınıfın içindeki encapsulation(kapsülleme) için get_description() ve get_cost() methodları tanımlayın."
   ]
  },
  {
   "cell_type": "code",
   "execution_count": 6,
   "id": "a91f89aa-7415-40d7-8785-d3ca8761a3b6",
   "metadata": {},
   "outputs": [],
   "source": [
    "class pizza:\n",
    "  def __init__(self, name, description, cost):\n",
    "    self.name = name\n",
    "    self.description = description\n",
    "    self.cost = cost"
   ]
  },
  {
   "cell_type": "code",
   "execution_count": 7,
   "id": "feb9ad14-b47e-4c1d-a2c9-289049baa8b6",
   "metadata": {},
   "outputs": [],
   "source": [
    "# Alt sınıf oluştur:\n",
    "# Klasik, Margherita, Türk Pizzası, Dominos Pizza vb. pizza sınıfları oluşturun. Bu pizza türlerinin her biri bir pizza türü olduğu için bu sınıflar alt sınıflar olarak tanımlanacaktır.\n",
    "# Her pizzanın kendine ait bir fiyatı ve sahip olduğu değişkenin içinde pizzaların açıklamasının yer alması gerektiğini unutmayın."
   ]
  },
  {
   "cell_type": "code",
   "execution_count": 8,
   "id": "dc383c4e-2c21-4149-bf70-c16dbf3f9cff",
   "metadata": {},
   "outputs": [],
   "source": [
    "klasik = pizza(\"Klasik\",\"Domates Sosu, Mozeralla Peyniri, Zeytin, Mantar, Sosis\", 119.99)\n",
    "margarita = pizza(\"Margarita\",\"Domates Sosu, Mozeralla Peyniri, Fesleğen\", 99.99)\n",
    "turk_pizza = pizza(\"TürkPizza\",\"Domates Sosu, Mozeralla Peyniri, Sucuk, Kıyma, Yeşil Biber, Domates, Soğan\", 109.99)\n",
    "sade = pizza(\"Sade Pizza\", \"Domates Sosu, Mozeralla Peyniri, Mısır\",  79.99)"
   ]
  },
  {
   "cell_type": "code",
   "execution_count": 9,
   "id": "d09c545a-11b6-4017-a3d7-174e355b21a7",
   "metadata": {},
   "outputs": [],
   "source": [
    "# Bir Decorator sınıfı oluşturun. Decorator, burada tüm sos sınıflarının süper sınıfı olarak adlandırılır.\n",
    "# Decorator sınıfı, pizza sınıfının özelliklerini kullanarak get_description() ve get_cost() yöntemlerini kullanacaktır. Aşağıdaki yöntemleri kullanarak decorator sınıfını tamamlayın."
   ]
  },
  {
   "cell_type": "code",
   "execution_count": 10,
   "id": "d96aa29a-9603-4605-a5d9-4f335776b12e",
   "metadata": {},
   "outputs": [],
   "source": [
    "def get_cost(self):\n",
    "       return self.component.get_cost() + \\\n",
    "         pizza.get_cost(self)\n",
    "def get_description(self):\n",
    "       return self.component.get_description() +' ' + pizza.get_description(self)\n",
    "class decorator:\n",
    "  def __init__(self, name, description, cost):\n",
    "    self.name = name\n",
    "    self.description = description\n",
    "    self.cost = cost"
   ]
  },
  {
   "cell_type": "code",
   "execution_count": 11,
   "id": "7d491b56-402a-4ef3-bee8-0305695b0a1b",
   "metadata": {},
   "outputs": [],
   "source": [
    "# Sos olarak Zeytin, Mantar, Keçi Peyniri, Et, Soğan ve Mısır'ı belirleyin ve belirlediğiniz sosların her birini bir sınıf olarak tanımlayın.\n",
    "# Unutmayın ki her sosun kendine ait bir fiyatı ve değişken olarak her bir pizzanın açıklaması olması gerekir."
   ]
  },
  {
   "cell_type": "code",
   "execution_count": 12,
   "id": "eaf6c152-1809-45e3-aed3-8b4e13500ae8",
   "metadata": {},
   "outputs": [],
   "source": [
    "zeytin = decorator(\"Zeytin\",\"siyah zeytin\", 9.99)\n",
    "mantar = decorator(\"Mantar\",\"ekstra mantar\", 9.99)\n",
    "keci_peyniri = decorator(\"Keçi Peyniri\",\"Kars keçi peyniri\", 15.99)\n",
    "et = decorator(\"Et\",\"tütsülenmiş et\", 19.99)\n",
    "sogan = decorator(\"Soğan\",\"ekstra soğan\", 9.99)\n",
    "misir = decorator(\"Mısır\",\"tane mısır\", 9.99)"
   ]
  },
  {
   "cell_type": "code",
   "execution_count": 13,
   "id": "9c8dc057-4fc0-4a6f-ad75-f81f59b4be04",
   "metadata": {},
   "outputs": [],
   "source": [
    "# Bir main fonksiyonu oluşturun. Bu fonksiyon önce menüyü ekrana yazdıracaktır. Ardından kullanıcının menüden bir pizza ve sos seçmesine imkan tanıyacaktır."
   ]
  },
  {
   "cell_type": "code",
   "execution_count": 14,
   "id": "07be695b-3e91-46fe-84dd-d3705f53b99c",
   "metadata": {},
   "outputs": [],
   "source": [
    "menu_yazdir = {\n",
    "    \"1\" : klasik,\n",
    "    \"2\" : margarita,\n",
    "    \"3\" : turk_pizza,\n",
    "    \"4\" : sade,\n",
    "    \"11\" : zeytin,\n",
    "    \"12\" : mantar,\n",
    "    \"13\" : keci_peyniri,\n",
    "    \"14\" : et,\n",
    "    \"15\" : sogan,\n",
    "    \"16\": misir\n",
    "}"
   ]
  },
  {
   "cell_type": "code",
   "execution_count": 15,
   "id": "5e2f3653-630c-4244-8886-84b35de1a6c3",
   "metadata": {},
   "outputs": [],
   "source": [
    "#Seçilen ürünlerin toplam fiyatını hesapladıktan sonra kullanıcıdan isim, TC kimlik numarası, kredi kartı numarası ve kredi kartı şifresi istemektedir."
   ]
  },
  {
   "cell_type": "code",
   "execution_count": 16,
   "id": "9391e059-561e-429d-928d-2769ebb92d8f",
   "metadata": {},
   "outputs": [],
   "source": [
    "def pizza_secimi():\n",
    "  pizza_numarasi = input(\"Tercih ettiğiniz pizza numarasını giriniz: \")\n",
    "  while True:\n",
    "   try:\n",
    "    if int(pizza_numarasi) in range(0,5) :\n",
    "     secilen_pizza = menu_yazdir[pizza_numarasi]\n",
    "     break\n",
    "    pizza_numarasi = input(\"Lütfen menüde olan bir değer giriniz. Tercih ettiğiniz pizza numarasını giriniz: \")\n",
    "   except ValueError:\n",
    "    pizza_numarasi = input(\"Lütfen menüde olan bir değer giriniz. Tercih ettiğiniz pizza numarasını giriniz: \")\n",
    "  return secilen_pizza\n",
    "def ek_malzeme_secimi():\n",
    "  malzeme_numarasi = input(\"Tercih ettiğiniz ekstra sosun numarasını giriniz: \")\n",
    "  while True:\n",
    "    try:\n",
    "     if int(malzeme_numarasi) in range(10,17):\n",
    "      secilen_malzeme = menu_yazdir[malzeme_numarasi]\n",
    "      break\n",
    "     malzeme_numarasi = input(\"Lütfen menüde olan bir değer giriniz. Tercih ettiğiniz ekstra sosun numarasını giriniz: \")\n",
    "    except ValueError:\n",
    "       malzeme_numarasi = input(\"Lütfen menüde olan bir değer giriniz. Tercih ettiğiniz ekstra sosun numarasını giriniz: \")\n",
    "  return secilen_malzeme"
   ]
  },
  {
   "cell_type": "code",
   "execution_count": 17,
   "id": "3fc757bd-3804-4fa8-a1f1-e9aaa5681d84",
   "metadata": {},
   "outputs": [],
   "source": [
    "# Veritabanı olarak adlandırdığımız \"Orders_Database.csv\" dosyasında pizzasını seçen ve kullanıcı adını, kullanıcı kimliğini, kredi kartı bilgilerini, sipariş açıklamasını, sipariş zamanını ve kredi kartı şifresini tutan bir tablo oluşturunuz."
   ]
  },
  {
   "cell_type": "code",
   "execution_count": 18,
   "id": "a554c8ae-21ae-4a6d-b2ac-c0aedac21e9d",
   "metadata": {},
   "outputs": [],
   "source": [
    "def get_order_info():\n",
    "    isim = input(\"İsim: \")\n",
    "    tc_no = input(\"TC Kimlik Numarası: \")\n",
    "    kart_no = input(\"Kredi Kartı Numarası: \")\n",
    "    sifre = input(\"Kredi Kartı Şifresi: \")\n",
    "    siparis_zamani = datetime.datetime.now().strftime(\"%d/%m/%Y %H:%M:%S\")\n",
    "    return isim, tc_no, kart_no, sifre, siparis_zamani\n",
    "def write_order_to_database(siparis_bilgisi, pizza):\n",
    "    isim, tc_no, kart_no, sifre = siparis_bilgisi\n",
    "    with open('Orders_Database.csv', mode='a', newline='') as siparis_dosyasi:\n",
    "        writer = csv.writer(siparis_dosyasi)\n",
    "        writer.writerow([isim, tc_no, kart_no, pizza.get_description(), pizza.get_cost(), sifre])\n",
    "    print(\"Siparişiniz alındı, 30 dk içerisinde adresinize teslim edilecektir. Afiyet olsun.\")"
   ]
  },
  {
   "cell_type": "code",
   "execution_count": null,
   "id": "5214ef03-25a2-4722-9df5-1c410187834b",
   "metadata": {},
   "outputs": [],
   "source": []
  },
  {
   "cell_type": "code",
   "execution_count": null,
   "id": "c63c76ad-1865-4eb3-8049-1554ade27cd2",
   "metadata": {},
   "outputs": [],
   "source": []
  },
  {
   "cell_type": "code",
   "execution_count": null,
   "id": "6deaa977-bf46-4497-b6bc-31a8c2cd4693",
   "metadata": {},
   "outputs": [],
   "source": []
  }
 ],
 "metadata": {
  "kernelspec": {
   "display_name": "Python 3 (ipykernel)",
   "language": "python",
   "name": "python3"
  },
  "language_info": {
   "codemirror_mode": {
    "name": "ipython",
    "version": 3
   },
   "file_extension": ".py",
   "mimetype": "text/x-python",
   "name": "python",
   "nbconvert_exporter": "python",
   "pygments_lexer": "ipython3",
   "version": "3.9.12"
  }
 },
 "nbformat": 4,
 "nbformat_minor": 5
}
