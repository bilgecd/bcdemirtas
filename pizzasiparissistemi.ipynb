{
 "cells": [
  {
   "cell_type": "code",
   "execution_count": null,
   "id": "e63222a1-bda8-4523-a9fd-77577f0c78b1",
   "metadata": {},
   "outputs": [],
   "source": [
    "# Gerekli Kitaplıkları İçe Aktarma"
   ]
  },
  {
   "cell_type": "code",
   "execution_count": 1,
   "id": "ac9fe616-8add-4bcc-8183-7b57ecc31856",
   "metadata": {},
   "outputs": [],
   "source": [
    "import csv\n",
    "import datetime"
   ]
  },
  {
   "cell_type": "code",
   "execution_count": null,
   "id": "7cc05549-b222-4feb-b50e-ff4be1ac615b",
   "metadata": {
    "id": "5076974b-eb3e-4d57-a88d-321b1051825b"
   },
   "outputs": [],
   "source": [
    "# Menu.txt dosyasını oluştur"
   ]
  },
  {
   "cell_type": "code",
   "execution_count": 2,
   "id": "0c50f8a8-64a1-42ea-82aa-137beecc5297",
   "metadata": {
    "id": "25724ff2-7aa2-4364-98e0-ab866de19a2e"
   },
   "outputs": [],
   "source": [
    "icerik = ['* Lutfen Bir Pizza Tabani Seciniz:', \n",
    "         '1: Klasik', '2: Margarita', '3: TurkPizza', '4: Sade Pizza', '* ve sececeginiz sos:', '11: Zeytin', '12: Mantarlar', '13: Keci Peyniri', '14: Et', '15: Sogan', '16: Misir', '* Tesekkür ederiz!' ]\n",
    "with open(\"Menu.txt\", \"a\") as file:\n",
    " for line in icerik:\n",
    "   file.write(line)\n",
    "   file.write(\"\\n\")\n",
    "file = open(\"Menu.txt\", \"r\")\n",
    "menu = file.read()\n",
    "file.close()"
   ]
  },
  {
   "cell_type": "code",
   "execution_count": null,
   "id": "cfdaea13-c946-48a4-a462-32d4423fdbdb",
   "metadata": {
    "id": "3da2d099-caa5-4806-bfbb-18ca58b4b897"
   },
   "outputs": [],
   "source": [
    "# Pizza sınıfını ve bu sınıfın içindeki encapsulation(kapsülleme) için get_description() ve get_cost() methodları tanımlayın."
   ]
  },
  {
   "cell_type": "code",
   "execution_count": 3,
   "id": "f614cc95-a04f-43cd-a969-51e2f2e731b6",
   "metadata": {
    "id": "a91f89aa-7415-40d7-8785-d3ca8761a3b6"
   },
   "outputs": [],
   "source": [
    "class pizza:\n",
    "  def __init__(self, name, description, cost):\n",
    "    self.name = name\n",
    "    self.description = description\n",
    "    self.cost = cost"
   ]
  },
  {
   "cell_type": "code",
   "execution_count": null,
   "id": "5a0d1f9e-1fbb-478b-b4ba-0a5cfe6bae9f",
   "metadata": {
    "id": "feb9ad14-b47e-4c1d-a2c9-289049baa8b6"
   },
   "outputs": [],
   "source": [
    "# Alt sınıf oluştur:\n",
    "# Klasik, Margherita, Türk Pizzası, Dominos Pizza vb. pizza sınıfları oluşturun. Bu pizza türlerinin her biri bir pizza türü olduğu için bu sınıflar alt sınıflar olarak tanımlanacaktır.\n",
    "# Her pizzanın kendine ait bir fiyatı ve sahip olduğu değişkenin içinde pizzaların açıklamasının yer alması gerektiğini unutmayın."
   ]
  },
  {
   "cell_type": "code",
   "execution_count": 4,
   "id": "dbc81e77-9bcc-495e-9dad-37b68a9c456c",
   "metadata": {
    "id": "dc383c4e-2c21-4149-bf70-c16dbf3f9cff"
   },
   "outputs": [],
   "source": [
    "klasik = pizza(\"Klasik\",\"Domates Sosu, Mozzarella Peyniri, Zeytin, Mantar, Sosis\", 115.0)\n",
    "margarita = pizza(\"Margarita\",\"Domates Sosu, Mozzarella Peyniri, Fesleğen\", 95.0)\n",
    "turk_pizza = pizza(\"Türk\",\"Domates Sosu, Mozzarella Peyniri, Sucuk, Kıyma, Yeşil Biber, Domates, Soğan\", 105.0)\n",
    "sade = pizza(\"Sade\", \"Domates Sosu, Mozzarella Peyniri, Mısır\",  75.0)"
   ]
  },
  {
   "cell_type": "code",
   "execution_count": null,
   "id": "bca375e4-2d5f-403b-b564-f386b1daa7de",
   "metadata": {
    "id": "d09c545a-11b6-4017-a3d7-174e355b21a7"
   },
   "outputs": [],
   "source": [
    "# Bir Decorator sınıfı oluşturun. Decorator, burada tüm sos sınıflarının süper sınıfı olarak adlandırılır.\n",
    "# Decorator sınıfı, pizza sınıfının özelliklerini kullanarak get_description() ve get_cost() yöntemlerini kullanacaktır. Aşağıdaki yöntemleri kullanarak decorator sınıfını tamamlayın."
   ]
  },
  {
   "cell_type": "code",
   "execution_count": 5,
   "id": "7aed8073-3ae7-46b2-9e98-2fa40901c9e7",
   "metadata": {
    "id": "T44tgIKF0SuA"
   },
   "outputs": [],
   "source": [
    "class decorator(pizza):\n",
    "  def toplam_ucret(self,pizza):\n",
    "    ucret = pizza.cost + self.cost\n",
    "    return ucret\n",
    "  def pizza_aciklama(self,pizza):\n",
    "    desc = pizza.name + ' Pizza; ' + pizza.description + ' ve ' + self.description + ' ile hazırlanacaktır.'\n",
    "    return desc"
   ]
  },
  {
   "cell_type": "code",
   "execution_count": null,
   "id": "49732002-0a0d-4baa-9af5-2aaa9cd77781",
   "metadata": {
    "id": "7d491b56-402a-4ef3-bee8-0305695b0a1b"
   },
   "outputs": [],
   "source": [
    "# Sos olarak Zeytin, Mantar, Keçi Peyniri, Et, Soğan ve Mısır'ı belirleyin ve belirlediğiniz sosların her birini bir sınıf olarak tanımlayın.\n",
    "# Unutmayın ki her sosun kendine ait bir fiyatı ve değişken olarak her bir pizzanın açıklaması olması gerekir."
   ]
  },
  {
   "cell_type": "code",
   "execution_count": 6,
   "id": "099741f5-840b-4b63-bfad-9f3aa38d442e",
   "metadata": {
    "id": "eaf6c152-1809-45e3-aed3-8b4e13500ae8"
   },
   "outputs": [],
   "source": [
    "zeytin = decorator(\"Zeytin\",\"Siyah Zeytin\", 5.0)\n",
    "mantar = decorator(\"Mantar\",\"Ekstra Mantar\", 5.0)\n",
    "keci_peyniri = decorator(\"Keçi Peyniri\",\"Kars Keçi Peyniri\", 15.0)\n",
    "et = decorator(\"Et\",\"Tütsülenmiş Et\", 15.0)\n",
    "sogan = decorator(\"Soğan\",\"Ekstra Soğan\", 5.0)\n",
    "misir = decorator(\"Mısır\",\"Tane Mısır\", 5.0)"
   ]
  },
  {
   "cell_type": "code",
   "execution_count": null,
   "id": "da937c9a-c297-47a5-bb90-7d7da13a17c7",
   "metadata": {
    "id": "9c8dc057-4fc0-4a6f-ad75-f81f59b4be04"
   },
   "outputs": [],
   "source": [
    "# Bir main fonksiyonu oluşturun. Bu fonksiyon önce menüyü ekrana yazdıracaktır. Ardından kullanıcının menüden bir pizza ve sos seçmesine imkan tanıyacaktır."
   ]
  },
  {
   "cell_type": "code",
   "execution_count": 7,
   "id": "6e858bb4-539b-4296-b18d-ba836c7bd37f",
   "metadata": {
    "id": "07be695b-3e91-46fe-84dd-d3705f53b99c"
   },
   "outputs": [],
   "source": [
    "menu_yazdir = {\n",
    "    \"1\" : klasik,\n",
    "    \"2\" : margarita,\n",
    "    \"3\" : turk_pizza,\n",
    "    \"4\" : sade,\n",
    "    \"11\" : zeytin,\n",
    "    \"12\" : mantar,\n",
    "    \"13\" : keci_peyniri,\n",
    "    \"14\" : et,\n",
    "    \"15\" : sogan,\n",
    "    \"16\": misir\n",
    "}"
   ]
  },
  {
   "cell_type": "code",
   "execution_count": 8,
   "id": "b0de0069-2c3b-487f-b9c8-6135a244a399",
   "metadata": {
    "id": "Dn3Z0xqBCrR8"
   },
   "outputs": [],
   "source": [
    "def pizza_secimi():\n",
    "  pizza_numarasi = input(\"Tercih ettiğiniz pizza numarasını giriniz: \")\n",
    "  while True:\n",
    "   try:\n",
    "    if int(pizza_numarasi) in range(0,5) :\n",
    "     secilen_pizza = menu_yazdir[pizza_numarasi]\n",
    "     break\n",
    "    pizza_numarasi = input(\"Lütfen menüde olan bir değer giriniz. Tercih ettiğiniz pizza numarasını giriniz: \")\n",
    "   except ValueError:\n",
    "    pizza_numarasi = input(\"Lütfen menüde olan bir değer giriniz. Tercih ettiğiniz pizza numarasını giriniz: \")\n",
    "  return secilen_pizza\n",
    "def ek_malzeme_secimi():\n",
    "  malzeme_numarasi = input(\"Tercih ettiğiniz ekstra sosun numarasını giriniz: \")\n",
    "  while True:\n",
    "    try:\n",
    "     if int(malzeme_numarasi) in range(10,17):\n",
    "      secilen_malzeme = menu_yazdir[malzeme_numarasi]\n",
    "      break\n",
    "     malzeme_numarasi = input(\"Lütfen menüde olan bir değer giriniz. Tercih ettiğiniz ekstra sosun numarasını giriniz: \")\n",
    "    except ValueError:\n",
    "       malzeme_numarasi = input(\"Lütfen menüde olan bir değer giriniz. Tercih ettiğiniz ekstra sosun numarasını giriniz: \")\n",
    "  return secilen_malzeme"
   ]
  },
  {
   "cell_type": "code",
   "execution_count": null,
   "id": "a4c35676-1e40-42f9-a126-56efc11c9266",
   "metadata": {
    "id": "SUzfLFc0DPBl"
   },
   "outputs": [],
   "source": [
    "# Sipariş açıklamasının verilmesi ve toplam fiyatın hesaplanması"
   ]
  },
  {
   "cell_type": "code",
   "execution_count": 9,
   "id": "e12f76ea-20c3-4151-a977-db43d9d94813",
   "metadata": {},
   "outputs": [
    {
     "name": "stdin",
     "output_type": "stream",
     "text": [
      "Tercih ettiğiniz pizza numarasını giriniz:  2\n",
      "Tercih ettiğiniz ekstra sosun numarasını giriniz:  12\n"
     ]
    },
    {
     "name": "stdout",
     "output_type": "stream",
     "text": [
      "Margarita Pizza; Domates Sosu, Mozzarella Peyniri, Fesleğen ve Ekstra Mantar ile hazırlanacaktır. Toplam tutar: 100.0TL\n"
     ]
    }
   ],
   "source": [
    "def main():\n",
    "  print(icerik)\n",
    "siparis = []\n",
    "secilen_pizza = pizza_secimi()\n",
    "secilen_malzeme = ek_malzeme_secimi()\n",
    "tutar = secilen_malzeme.toplam_ucret(secilen_pizza)\n",
    "aciklama = secilen_malzeme.pizza_aciklama(secilen_pizza) + \" Toplam tutar: \" + str(tutar) +\"TL\"\n",
    "print(aciklama)"
   ]
  },
  {
   "cell_type": "code",
   "execution_count": null,
   "id": "ddff4b6c-f5d8-4e51-baa4-11092562e59b",
   "metadata": {
    "id": "5e2f3653-630c-4244-8886-84b35de1a6c3"
   },
   "outputs": [],
   "source": [
    "#Seçilen ürünlerin toplam fiyatını hesapladıktan sonra kullanıcıdan isim, TC kimlik numarası, kredi kartı numarası ve kredi kartı şifresi istemektedir."
   ]
  },
  {
   "cell_type": "code",
   "execution_count": 10,
   "id": "7ac2318a-e50c-446b-9855-47beb35b829d",
   "metadata": {},
   "outputs": [
    {
     "name": "stdin",
     "output_type": "stream",
     "text": [
      "Kullanıcı adınızı giriniz: Bilge\n"
     ]
    },
    {
     "name": "stdout",
     "output_type": "stream",
     "text": [
      "Kullanıcı adınız: Bilge. Onaylıyor musunuz? E/H\n"
     ]
    },
    {
     "name": "stdin",
     "output_type": "stream",
     "text": [
      " e\n"
     ]
    },
    {
     "name": "stdout",
     "output_type": "stream",
     "text": [
      "İşleminiz devam ediyor.\n"
     ]
    },
    {
     "name": "stdin",
     "output_type": "stream",
     "text": [
      "11 haneli TC kimlik numaranızı giriniz: 11111111111\n"
     ]
    },
    {
     "name": "stdout",
     "output_type": "stream",
     "text": [
      "Kimlik numaranız: 11111111111 .Onaylıyor musunuz? E/H\n"
     ]
    },
    {
     "name": "stdin",
     "output_type": "stream",
     "text": [
      " e\n"
     ]
    },
    {
     "name": "stdout",
     "output_type": "stream",
     "text": [
      "İşleminiz devam ediyor.\n"
     ]
    },
    {
     "name": "stdin",
     "output_type": "stream",
     "text": [
      "16 haneli kredi kartı numaranızı boşluklar olmadan giriniz: 1111111111111111\n"
     ]
    },
    {
     "name": "stdout",
     "output_type": "stream",
     "text": [
      "Kredi kartı numaranız: 1111111111111111 Onaylıyor musunuz? E/H\n"
     ]
    },
    {
     "name": "stdin",
     "output_type": "stream",
     "text": [
      " e\n"
     ]
    },
    {
     "name": "stdout",
     "output_type": "stream",
     "text": [
      "İşleminiz devam ediyor.\n"
     ]
    },
    {
     "name": "stdin",
     "output_type": "stream",
     "text": [
      "4 haneli Kredi kartı şifrenizi giriniz: 1111\n"
     ]
    },
    {
     "name": "stdout",
     "output_type": "stream",
     "text": [
      "Şifreniz: 1111 .Onaylıyor musunuz? E/H\n"
     ]
    },
    {
     "name": "stdin",
     "output_type": "stream",
     "text": [
      " e\n"
     ]
    },
    {
     "name": "stdout",
     "output_type": "stream",
     "text": [
      "Siparişiniz alındı, 30 dk içerisinde adresinize teslim edilecektir. Afiyet olsun.\n"
     ]
    }
   ],
   "source": [
    "def kullanici(): \n",
    " global kullanici_adi \n",
    " kullanici_adi=input(\"Kullanıcı adınızı giriniz:\")\n",
    " print(f\"Kullanıcı adınız: {kullanici_adi}. Onaylıyor musunuz? E/H\")\n",
    " cevap1=input()\n",
    " cevap1=cevap1.lower() \n",
    " if (cevap1==\"e\"): \n",
    "     print(\"İşleminiz devam ediyor.\")\n",
    " elif(cevap1==\"h\"): \n",
    "    print(\"Tekrar deneyiniz:\")\n",
    "    kullanici() \n",
    "\n",
    " else:\n",
    "   print(\"Yanlış değer girdiniz.\")\n",
    "   print(\"Tekrar deneyiniz:\",kullanici_adi)\n",
    "   kullanici() \n",
    "\n",
    "kullanici()\n",
    "\n",
    "\n",
    "def kimlik(): \n",
    " global kullanici_kimligi \n",
    " kullanici_kimligi=int(input(\"11 haneli TC kimlik numaranızı giriniz:\"))\n",
    " if  (10000000000 <= kullanici_kimligi <= 99999999999): \n",
    "  print(f\"Kimlik numaranız: {kullanici_kimligi} .Onaylıyor musunuz? E/H\")\n",
    "  cevap=input()\n",
    "  cevap=cevap.lower()\n",
    "  if (cevap==\"e\"):\n",
    "     print(\"İşleminiz devam ediyor.\")\n",
    "  elif(cevap==\"h\"):\n",
    "    print(\"Tekrar deneyiniz:\")\n",
    "    kimlik()\n",
    "\n",
    " else:\n",
    "  print(\"Yanlış değer girdiniz.\")\n",
    "  print(\"Tekrar deneyiniz:\")\n",
    "  kimlik()\n",
    "\n",
    "kimlik()\n",
    "\n",
    "def kredi(): \n",
    " global no_int \n",
    " global no_str \n",
    " no_int=int(input(\"16 haneli kredi kartı numaranızı boşluklar olmadan giriniz:\"))\n",
    " no_str=str(no_int)\n",
    " if (len(no_str)==16): \n",
    "   print(f\"Kredi kartı numaranız: {no_int} Onaylıyor musunuz? E/H\")\n",
    "   cevap2=input()\n",
    "   cevap2=cevap2.lower()\n",
    "   if (cevap2==\"e\"):\n",
    "    print(\"İşleminiz devam ediyor.\")\n",
    "   elif(cevap2==\"h\"):\n",
    "    print(\"Tekrar deneyiniz:\")\n",
    "    kredi()\n",
    "\n",
    " else:\n",
    "   print(\"Yanlış değer girdiniz.\")\n",
    "   print(\"Tekrar deneyiniz:\")\n",
    "   kredi()\n",
    "  \n",
    "\n",
    "kredi()\n",
    "\n",
    "\n",
    "def sifre(): \n",
    " global sifre_str \n",
    " global no_sifre \n",
    " sifre_str=input(\"4 haneli Kredi kartı şifrenizi giriniz:\")\n",
    " no_sifre=int(sifre_str)\n",
    " if  (1000 <= no_sifre <= 9999): \n",
    "  print(f\"Şifreniz: {no_sifre} .Onaylıyor musunuz? E/H\")\n",
    "  cevap3=input()\n",
    "  cevap3=cevap3.lower()\n",
    "  if (cevap3==\"e\"):\n",
    "     print(\"Siparişiniz alındı, 30 dk içerisinde adresinize teslim edilecektir. Afiyet olsun.\")\n",
    "  elif(cevap3==\"h\"):\n",
    "    print(\"Tekrar deneyiniz:\")   \n",
    "    sifre()\n",
    " else:\n",
    "   print(\"Yanlış değer girdiniz.\")\n",
    "   print(\"Tekrar deneyiniz:\")\n",
    "   sifre()\n",
    "\n",
    "sifre()\n",
    "\n",
    "siparis_zamani = datetime.datetime.now()"
   ]
  },
  {
   "cell_type": "code",
   "execution_count": null,
   "id": "70dc672a-87c7-4b2a-ba24-e35b07939f20",
   "metadata": {
    "id": "svYKRhXC6Phs"
   },
   "outputs": [],
   "source": [
    "# Veritabanı olarak adlandırdığımız \"Orders_Database.csv\" dosyasında pizzasını seçen ve kullanıcı adını, kullanıcı kimliğini, kredi kartı bilgilerini, sipariş açıklamasını, sipariş zamanını ve kredi kartı şifresini tutan bir tablo oluşturunuz."
   ]
  },
  {
   "cell_type": "code",
   "execution_count": 11,
   "id": "970cbbec-512a-45f7-8d8e-ed098fda7300",
   "metadata": {},
   "outputs": [],
   "source": [
    "with open('Orders_Database.csv', mode='w') as yeni_dosya:\n",
    "    siparis_bilgisi = csv.writer(yeni_dosya, delimiter=',', quotechar='\"', quoting=csv.QUOTE_MINIMAL)\n",
    "    siparis_bilgisi.writerow([\"Kişi\",\"TC no\",\n",
    "                             \"Kredi Kartı no:\",\"Sifre:\",\n",
    "                              \"toplam fiyat:\",\"tarih & saat:\"])\n",
    "    siparis_bilgisi.writerow([kullanici_adi,kullanici_kimligi\n",
    "                              ,no_int,no_sifre,str(tutar), siparis_zamani])"
   ]
  },
  {
   "cell_type": "code",
   "execution_count": 12,
   "id": "a9fa8e87-f5f9-4fa8-bc1a-556459a67103",
   "metadata": {},
   "outputs": [
    {
     "name": "stdout",
     "output_type": "stream",
     "text": [
      "Kişi,TC no,Kredi Kartı no:,Sifre:,toplam fiyat:,tarih & saat:\n",
      "\n",
      "Bilge,11111111111,1111111111111111,1111,100.0,2023-03-13 11:35:08.301058\n",
      "\n",
      "\n"
     ]
    }
   ],
   "source": [
    "with open('Orders_Database.csv') as yeni_dosya:\n",
    "    siparis = yeni_dosya.read()\n",
    "    print(siparis) "
   ]
  },
  {
   "cell_type": "code",
   "execution_count": 13,
   "id": "a2d47f02-1f70-40d7-a9cf-da91621f3bb0",
   "metadata": {},
   "outputs": [
    {
     "name": "stdout",
     "output_type": "stream",
     "text": [
      "['* Lutfen Bir Pizza Tabani Seciniz:', '1: Klasik', '2: Margarita', '3: TurkPizza', '4: Sade Pizza', '* ve sececeginiz sos:', '11: Zeytin', '12: Mantarlar', '13: Keci Peyniri', '14: Et', '15: Sogan', '16: Misir', '* Tesekkür ederiz!']\n"
     ]
    }
   ],
   "source": [
    "main()"
   ]
  },
  {
   "cell_type": "code",
   "execution_count": null,
   "id": "cb9284d8-9b29-4839-9833-f98b5b2ee4cb",
   "metadata": {},
   "outputs": [],
   "source": []
  },
  {
   "cell_type": "code",
   "execution_count": null,
   "id": "c2498bb6-c8a3-4fe0-94bf-3934e3050645",
   "metadata": {},
   "outputs": [],
   "source": []
  },
  {
   "cell_type": "code",
   "execution_count": null,
   "id": "fb26fc22-4a89-4222-b01b-67d104e84315",
   "metadata": {},
   "outputs": [],
   "source": []
  }
 ],
 "metadata": {
  "kernelspec": {
   "display_name": "Python 3 (ipykernel)",
   "language": "python",
   "name": "python3"
  },
  "language_info": {
   "codemirror_mode": {
    "name": "ipython",
    "version": 3
   },
   "file_extension": ".py",
   "mimetype": "text/x-python",
   "name": "python",
   "nbconvert_exporter": "python",
   "pygments_lexer": "ipython3",
   "version": "3.9.12"
  }
 },
 "nbformat": 4,
 "nbformat_minor": 5
}
